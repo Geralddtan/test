{
 "cells": [
  {
   "cell_type": "code",
   "execution_count": 3,
   "metadata": {},
   "outputs": [
    {
     "name": "stderr",
     "output_type": "stream",
     "text": [
      "Updating HTML index of packages in '.Library'\n",
      "Making 'packages.html' ... done\n",
      "also installing the dependencies ‘zip’, ‘SparseM’, ‘MatrixModels’, ‘sp’, ‘openxlsx’, ‘minqa’, ‘nloptr’, ‘RcppEigen’, ‘carData’, ‘abind’, ‘pbkrtest’, ‘quantreg’, ‘maptools’, ‘rio’, ‘lme4’\n",
      "\n",
      "Warning message in install.packages(\"car\"):\n",
      "“installation of package ‘zip’ had non-zero exit status”Warning message in install.packages(\"car\"):\n",
      "“installation of package ‘nloptr’ had non-zero exit status”Warning message in install.packages(\"car\"):\n",
      "“installation of package ‘openxlsx’ had non-zero exit status”Warning message in install.packages(\"car\"):\n",
      "“installation of package ‘lme4’ had non-zero exit status”Warning message in install.packages(\"car\"):\n",
      "“installation of package ‘pbkrtest’ had non-zero exit status”Warning message in install.packages(\"car\"):\n",
      "“installation of package ‘rio’ had non-zero exit status”Warning message in install.packages(\"car\"):\n",
      "“installation of package ‘car’ had non-zero exit status”Updating HTML index of packages in '.Library'\n",
      "Making 'packages.html' ... done\n",
      "also installing the dependency ‘rlang’\n",
      "\n",
      "Updating HTML index of packages in '.Library'\n",
      "Making 'packages.html' ... done\n",
      "Updating HTML index of packages in '.Library'\n",
      "Making 'packages.html' ... done\n",
      "also installing the dependencies ‘quadprog’, ‘fracdiff’, ‘lmtest’, ‘tseries’, ‘urca’, ‘RcppArmadillo’\n",
      "\n",
      "Warning message in install.packages(\"forecast\"):\n",
      "“installation of package ‘RcppArmadillo’ had non-zero exit status”Warning message in install.packages(\"forecast\"):\n",
      "“installation of package ‘forecast’ had non-zero exit status”Updating HTML index of packages in '.Library'\n",
      "Making 'packages.html' ... done\n",
      "Updating HTML index of packages in '.Library'\n",
      "Making 'packages.html' ... done\n",
      "also installing the dependency ‘sandwich’\n",
      "\n",
      "Updating HTML index of packages in '.Library'\n",
      "Making 'packages.html' ... done\n"
     ]
    }
   ],
   "source": [
    "install.packages(\"psych\")\n",
    "install.packages(\"car\")\n",
    "install.packages(\"dplyr\")\n",
    "install.packages(\"ggplot2\")\n",
    "install.packages(\"forecast\")\n",
    "install.packages(\"tseries\")\n",
    "install.packages(\"bucky\")\n"
   ]
  },
  {
   "cell_type": "code",
   "execution_count": null,
   "metadata": {},
   "outputs": [
    {
     "name": "stderr",
     "output_type": "stream",
     "text": [
      "also installing the dependencies ‘nloptr’, ‘ucminf’, ‘lme4’, ‘ordinal’, ‘pan’, ‘jomo’, ‘mitml’, ‘mice’, ‘mitools’, ‘RcppArmadillo’\n",
      "\n",
      "Warning message in install.packages(\"miceadds\"):\n",
      "“installation of package ‘nloptr’ had non-zero exit status”Warning message in install.packages(\"miceadds\"):\n",
      "“installation of package ‘RcppArmadillo’ had non-zero exit status”Warning message in install.packages(\"miceadds\"):\n",
      "“installation of package ‘lme4’ had non-zero exit status”Warning message in install.packages(\"miceadds\"):\n",
      "“installation of package ‘jomo’ had non-zero exit status”Warning message in install.packages(\"miceadds\"):\n",
      "“installation of package ‘mitml’ had non-zero exit status”Warning message in install.packages(\"miceadds\"):\n",
      "“installation of package ‘mice’ had non-zero exit status”Warning message in install.packages(\"miceadds\"):\n",
      "“installation of package ‘miceadds’ had non-zero exit status”Updating HTML index of packages in '.Library'\n",
      "Making 'packages.html' ... done\n",
      "Updating HTML index of packages in '.Library'\n",
      "Making 'packages.html' ... done\n",
      "Updating HTML index of packages in '.Library'\n",
      "Making 'packages.html' ... done\n",
      "also installing the dependencies ‘gridExtra’, ‘bitops’, ‘viridis’, ‘gtools’, ‘gdata’, ‘caTools’, ‘TSP’, ‘qap’, ‘gclus’, ‘dendextend’, ‘gplots’, ‘registry’, ‘seriation’, ‘ggrepel’\n",
      "\n",
      "Updating HTML index of packages in '.Library'\n",
      "Making 'packages.html' ... done\n",
      "also installing the dependencies ‘ellipsis’, ‘zeallot’, ‘vctrs’, ‘lifecycle’, ‘dbplyr’, ‘haven’, ‘hms’, ‘httr’, ‘modelr’, ‘pillar’, ‘purrr’, ‘reprex’, ‘rvest’, ‘tibble’, ‘tidyr’, ‘xml2’\n",
      "\n"
     ]
    }
   ],
   "source": [
    "install.packages(\"miceadds\")\n",
    "install.packages(\"multiwayvcov\")\n",
    "install.packages(\"stargazer\")\n",
    "install.packages(\"corrr\")\n",
    "install.packages(\"tidyverse\")"
   ]
  },
  {
   "cell_type": "code",
   "execution_count": null,
   "metadata": {},
   "outputs": [],
   "source": [
    "library(readxl)\n",
    "library(psych)\n",
    "library(car)\n",
    "library(dplyr)\n",
    "library(ggplot2)\n",
    "library(forecast)\n",
    "library(tseries)\n",
    "library(bucky) #install.packages('bucky')\n",
    "library(miceadds) #install.packages('miceadds')\n",
    "library(multiwayvcov) #install.packages('multiwayvcov')\n",
    "library(stargazer) # install.packages('stargazer')\n",
    "library(corrr)\n",
    "library(tidyverse)\n",
    "\n",
    "file = read.csv('energydata_complete.csv')"
   ]
  },
  {
   "cell_type": "code",
   "execution_count": null,
   "metadata": {},
   "outputs": [],
   "source": []
  },
  {
   "cell_type": "code",
   "execution_count": null,
   "metadata": {},
   "outputs": [],
   "source": []
  }
 ],
 "metadata": {
  "kernelspec": {
   "display_name": "R",
   "language": "R",
   "name": "ir"
  },
  "language_info": {
   "codemirror_mode": "r",
   "file_extension": ".r",
   "mimetype": "text/x-r-source",
   "name": "R",
   "pygments_lexer": "r",
   "version": "3.6.1"
  }
 },
 "nbformat": 4,
 "nbformat_minor": 2
}
